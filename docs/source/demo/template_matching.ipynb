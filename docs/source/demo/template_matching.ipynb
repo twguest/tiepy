{
 "cells": [
  {
   "cell_type": "code",
   "execution_count": 2,
   "metadata": {},
   "outputs": [],
   "source": [
    "import numpy as np\n",
    "\n",
    "import h5py as h5\n",
    "import matplotlib \n",
    "\n",
    "from matplotlib import pyplot as plt\n",
    "\n",
    "from tiepy.speckle.track import match_template, process_single_image\n",
    "from tiepy.speckle.utils import calc_subsets_size\n"
   ]
  },
  {
   "cell_type": "code",
   "execution_count": 3,
   "metadata": {},
   "outputs": [],
   "source": [
    "### import data\n",
    "\n",
    "from PIL import Image\n",
    "\n",
    "IR = np.array(Image.open(\"./data/speckle00.tif\"))\n",
    "IS = np.array(Image.open(\"./data/speckle01.tif\"))\n",
    "\n",
    "IR -= np.mean(IR)\n",
    "IS -= np.mean(IS)\n",
    "\n",
    "IR/= np.mean(IR)\n",
    "IS/= np.mean(IS)"
   ]
  },
  {
   "cell_type": "code",
   "execution_count": 4,
   "metadata": {},
   "outputs": [
    {
     "name": "stdout",
     "output_type": "stream",
     "text": [
      "Number of Subsets: 138\n"
     ]
    }
   ],
   "source": [
    "window_size = 50\n",
    "step_size = 15\n",
    "padding = window_size\n",
    "calc_subsets_size(IR, window_size, step_size, padding)"
   ]
  },
  {
   "cell_type": "code",
   "execution_count": 5,
   "metadata": {},
   "outputs": [
    {
     "name": "stderr",
     "output_type": "stream",
     "text": [
      "138it [01:34,  1.45it/s]\n"
     ]
    }
   ],
   "source": [
    "results = process_single_image(reference_image = IR,\n",
    "                              sample_image = IS,\n",
    "                               window_size = window_size,\n",
    "                               step_size = step_size,\n",
    "                               padding = padding,\n",
    "                               plot = False,\n",
    "                               subpixel = False, \n",
    "                               method = match_template)\n",
    "                               "
   ]
  },
  {
   "cell_type": "code",
   "execution_count": null,
   "metadata": {},
   "outputs": [],
   "source": []
  },
  {
   "cell_type": "code",
   "execution_count": 9,
   "metadata": {},
   "outputs": [
    {
     "data": {
      "text/plain": [
       "<matplotlib.image.AxesImage at 0x7fc27e6317f0>"
      ]
     },
     "execution_count": 9,
     "metadata": {},
     "output_type": "execute_result"
    },
    {
     "data": {
      "image/png": "[encoded data removed]",
      "text/plain": [
       "<Figure size 432x288 with 1 Axes>"
      ]
     },
     "metadata": {},
     "output_type": "display_data"
    }
   ],
   "source": [
    "plt.imshow(results['shifts_x'])"
   ]
  },
  {
   "cell_type": "code",
   "execution_count": null,
   "metadata": {},
   "outputs": [],
   "source": []
  }
 ],
 "metadata": {
  "kernelspec": {
   "display_name": "Python 3 (Spyder)",
   "language": "python3",
   "name": "python3"
  },
  "language_info": {
   "codemirror_mode": {
    "name": "ipython",
    "version": 3
   },
   "file_extension": ".py",
   "mimetype": "text/x-python",
   "name": "python",
   "nbconvert_exporter": "python",
   "pygments_lexer": "ipython3",
   "version": "3.8.2"
  }
 },
 "nbformat": 4,
 "nbformat_minor": 5
}
