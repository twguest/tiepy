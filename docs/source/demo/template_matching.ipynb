{
 "cells": [
  {
   "cell_type": "code",
   "execution_count": null,
   "id": "7433d725",
   "metadata": {},
   "outputs": [],
   "source": [
    "import numpy as np\n",
    "\n",
    "import h5py as h5\n",
    "import matplotlib \n",
    "\n",
    "from matplotlib import pyplot as plt\n",
    "from matplotlib_scalebar.scalebar import ScaleBar\n",
    "\n",
    "from tiepy.speckle_utils.template_matching import match_template\n",
    "from tiepy.speckle_utils.template_utils import get_windows, generate_gaussian_mask\n"
   ]
  },
  {
   "cell_type": "code",
   "execution_count": null,
   "id": "5b3d3809",
   "metadata": {},
   "outputs": [],
   "source": [
    "### import data\n",
    "\n",
    "from PIL import Image\n",
    "\n",
    "I0 = np.array(Image.open(\"./data/speckle00.tif\"))\n",
    "In = np.array(Image.open(\"./data/speckle01.tif\"))\n",
    "\n",
    "I0 -= np.mean(I0)\n",
    "In -= np.mean(In)\n",
    "\n",
    "I0/= np.mean(I0)\n",
    "In/= np.mean(In)"
   ]
  },
  {
   "cell_type": "code",
   "execution_count": null,
   "id": "5a1b81fb",
   "metadata": {},
   "outputs": [],
   "source": [
    "fig, ax = plt.subplots(2)\n",
    "\n",
    "ax[0].imshow(I0)\n",
    "ax[1].imshow(In)\n",
    "\n",
    "px = 7.2 ### pixel size\n",
    "\n",
    "scalebar = ScaleBar(px, \"um\", length_fraction = 0.5, \n",
    "                   location = 'lower right')\n",
    "ax[1].add_artist(scalebar)\n",
    "\n",
    "for a in ax:\n",
    "    a.set_xticks([])\n",
    "    a.set_yticks([])\n",
    "    \n",
    "ax[0].set_ylabel(\"Reference\", fontsize = 16)\n",
    "ax[1].set_ylabel(\"Perturbed\", fontsize = 16)"
   ]
  }
 ],
 "metadata": {
  "kernelspec": {
   "display_name": "Python 3 (Spyder)",
   "language": "python3",
   "name": "python3"
  },
  "language_info": {
   "codemirror_mode": {
    "name": "ipython",
    "version": 3
   },
   "file_extension": ".py",
   "mimetype": "text/x-python",
   "name": "python",
   "nbconvert_exporter": "python",
   "pygments_lexer": "ipython3",
   "version": "3.11.3"
  }
 },
 "nbformat": 4,
 "nbformat_minor": 5
}
